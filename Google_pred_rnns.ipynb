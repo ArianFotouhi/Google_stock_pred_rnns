{
 "cells": [
  {
   "cell_type": "code",
   "execution_count": 1,
   "metadata": {
    "colab": {},
    "colab_type": "code",
    "id": "qlRekByTxY4R"
   },
   "outputs": [],
   "source": [
    "import numpy as np\n",
    "import pandas as pd\n",
    "import matplotlib.pyplot as plt"
   ]
  },
  {
   "cell_type": "markdown",
   "metadata": {
    "colab_type": "text",
    "id": "vxoMgsLXzbvn"
   },
   "source": [
    "## Import Training Set"
   ]
  },
  {
   "cell_type": "code",
   "execution_count": 2,
   "metadata": {
    "colab": {},
    "colab_type": "code",
    "id": "GcRvJVGtzkNN"
   },
   "outputs": [],
   "source": [
    "dataset_train = pd.read_csv('Google_Stock_Price_Train.csv')\n",
    "training_set = dataset_train.iloc[:, 1:2].values  #.values makes a numpy array"
   ]
  },
  {
   "cell_type": "markdown",
   "metadata": {
    "colab_type": "text",
    "id": "CzTwSSsC1oNU"
   },
   "source": [
    "## Feature Scaling"
   ]
  },
  {
   "cell_type": "code",
   "execution_count": 3,
   "metadata": {
    "colab": {},
    "colab_type": "code",
    "id": "JfEc-CNe1p6U"
   },
   "outputs": [],
   "source": [
    "from sklearn.preprocessing import MinMaxScaler\n",
    "sc = MinMaxScaler(feature_range = (0,1))\n",
    "training_set_scaled = sc.fit_transform(training_set)"
   ]
  },
  {
   "cell_type": "markdown",
   "metadata": {
    "colab_type": "text",
    "id": "dXOhwQLh25iE"
   },
   "source": [
    "## Creating a data strcuture with 60 timesteps and one output"
   ]
  },
  {
   "cell_type": "code",
   "execution_count": 4,
   "metadata": {
    "colab": {},
    "colab_type": "code",
    "id": "lW4ytjsB3A4T"
   },
   "outputs": [],
   "source": [
    "#for prediction of day X, it learns from X-1, X-2, ..., X-60\n",
    "X_train = []\n",
    "y_train = []\n",
    "for i in range(60, 1258):\n",
    "  X_train.append(training_set_scaled[i-60:i, 0]) #there is just one column in that dataset (c = 0)\n",
    "  y_train.append(training_set_scaled[i, 0])\n",
    "X_train, y_train = np.array(X_train), np.array(y_train) "
   ]
  },
  {
   "cell_type": "markdown",
   "metadata": {
    "colab_type": "text",
    "id": "qWJgx2uu7ETs"
   },
   "source": [
    "## Reshaping"
   ]
  },
  {
   "cell_type": "code",
   "execution_count": 5,
   "metadata": {
    "colab": {},
    "colab_type": "code",
    "id": "D4bCN08W7GKQ"
   },
   "outputs": [],
   "source": [
    "X_train = np.reshape(X_train, (X_train.shape[0], X_train.shape[1], 1))\n",
    "#(nb_samples, timesteps, input_dim)\n",
    "#nb_sample -> nb_batches -> ~1300 or x.shape(0) -> nb of columns\n",
    "#timesteps -> 60 or x.shape(1)-> number of rows\n",
    "#in this way this code can be used for any other dataframe\n",
    "#number of predictor (indicator) -> 1 or google stock price\n"
   ]
  },
  {
   "cell_type": "markdown",
   "metadata": {
    "colab_type": "text",
    "id": "GDdq37mh_Q_2"
   },
   "source": [
    "## Initialization of RNN"
   ]
  },
  {
   "cell_type": "code",
   "execution_count": 6,
   "metadata": {
    "colab": {},
    "colab_type": "code",
    "id": "oxmuNBTF_UKX"
   },
   "outputs": [],
   "source": [
    "from keras.models import Sequential\n",
    "from keras.layers import Dense\n",
    "from keras.layers import LSTM\n",
    "from keras.layers import Dropout\n",
    "\n",
    "regressor = Sequential()\n"
   ]
  },
  {
   "cell_type": "markdown",
   "metadata": {
    "colab_type": "text",
    "id": "48hV05CeAR2h"
   },
   "source": [
    "## Adding the first LSTM layer and Dropout Regularization to prevent Overfitting"
   ]
  },
  {
   "cell_type": "code",
   "execution_count": 7,
   "metadata": {
    "colab": {
     "base_uri": "https://localhost:8080/",
     "height": 1000
    },
    "colab_type": "code",
    "id": "Jrh-En7nAZiZ",
    "outputId": "a913aeac-4980-4713-ee02-782eccd0511c"
   },
   "outputs": [
    {
     "name": "stdout",
     "output_type": "stream",
     "text": [
      "Epoch 1/100\n",
      "38/38 [==============================] - 9s 70ms/step - loss: 0.0418\n",
      "Epoch 2/100\n",
      "38/38 [==============================] - 3s 71ms/step - loss: 0.0058\n",
      "Epoch 3/100\n",
      "38/38 [==============================] - 3s 75ms/step - loss: 0.0055\n",
      "Epoch 4/100\n",
      "38/38 [==============================] - 3s 70ms/step - loss: 0.0052\n",
      "Epoch 5/100\n",
      "38/38 [==============================] - 3s 74ms/step - loss: 0.0063\n",
      "Epoch 6/100\n",
      "38/38 [==============================] - 3s 70ms/step - loss: 0.0047\n",
      "Epoch 7/100\n",
      "38/38 [==============================] - 3s 69ms/step - loss: 0.0051\n",
      "Epoch 8/100\n",
      "38/38 [==============================] - 3s 72ms/step - loss: 0.0049\n",
      "Epoch 9/100\n",
      "38/38 [==============================] - 3s 70ms/step - loss: 0.0044\n",
      "Epoch 10/100\n",
      "38/38 [==============================] - 3s 70ms/step - loss: 0.0047\n",
      "Epoch 11/100\n",
      "38/38 [==============================] - 3s 70ms/step - loss: 0.0046\n",
      "Epoch 12/100\n",
      "38/38 [==============================] - 3s 77ms/step - loss: 0.0039\n",
      "Epoch 13/100\n",
      "38/38 [==============================] - 3s 75ms/step - loss: 0.0039\n",
      "Epoch 14/100\n",
      "38/38 [==============================] - 3s 76ms/step - loss: 0.0041\n",
      "Epoch 15/100\n",
      "38/38 [==============================] - 3s 78ms/step - loss: 0.0039\n",
      "Epoch 16/100\n",
      "38/38 [==============================] - 3s 76ms/step - loss: 0.0035\n",
      "Epoch 17/100\n",
      "38/38 [==============================] - 3s 77ms/step - loss: 0.0037\n",
      "Epoch 18/100\n",
      "38/38 [==============================] - 3s 76ms/step - loss: 0.0034\n",
      "Epoch 19/100\n",
      "38/38 [==============================] - 3s 76ms/step - loss: 0.0039\n",
      "Epoch 20/100\n",
      "38/38 [==============================] - 3s 77ms/step - loss: 0.0036\n",
      "Epoch 21/100\n",
      "38/38 [==============================] - 3s 77ms/step - loss: 0.0037\n",
      "Epoch 22/100\n",
      "38/38 [==============================] - 3s 77ms/step - loss: 0.0040\n",
      "Epoch 23/100\n",
      "38/38 [==============================] - 3s 76ms/step - loss: 0.0035\n",
      "Epoch 24/100\n",
      "38/38 [==============================] - 3s 77ms/step - loss: 0.0037\n",
      "Epoch 25/100\n",
      "38/38 [==============================] - 3s 77ms/step - loss: 0.0033\n",
      "Epoch 26/100\n",
      "38/38 [==============================] - 3s 77ms/step - loss: 0.0029\n",
      "Epoch 27/100\n",
      "38/38 [==============================] - 3s 77ms/step - loss: 0.0037\n",
      "Epoch 28/100\n",
      "38/38 [==============================] - 3s 77ms/step - loss: 0.0029\n",
      "Epoch 29/100\n",
      "38/38 [==============================] - 3s 77ms/step - loss: 0.0029\n",
      "Epoch 30/100\n",
      "38/38 [==============================] - 3s 77ms/step - loss: 0.0031\n",
      "Epoch 31/100\n",
      "38/38 [==============================] - 3s 77ms/step - loss: 0.0032\n",
      "Epoch 32/100\n",
      "38/38 [==============================] - 3s 78ms/step - loss: 0.0027\n",
      "Epoch 33/100\n",
      "38/38 [==============================] - 3s 77ms/step - loss: 0.0029\n",
      "Epoch 34/100\n",
      "38/38 [==============================] - 3s 78ms/step - loss: 0.0029\n",
      "Epoch 35/100\n",
      "38/38 [==============================] - 3s 79ms/step - loss: 0.0035\n",
      "Epoch 36/100\n",
      "38/38 [==============================] - 3s 77ms/step - loss: 0.0028\n",
      "Epoch 37/100\n",
      "38/38 [==============================] - 3s 77ms/step - loss: 0.0029\n",
      "Epoch 38/100\n",
      "38/38 [==============================] - 3s 77ms/step - loss: 0.0028\n",
      "Epoch 39/100\n",
      "38/38 [==============================] - 3s 78ms/step - loss: 0.0026\n",
      "Epoch 40/100\n",
      "38/38 [==============================] - 3s 77ms/step - loss: 0.0028\n",
      "Epoch 41/100\n",
      "38/38 [==============================] - 3s 77ms/step - loss: 0.0024\n",
      "Epoch 42/100\n",
      "38/38 [==============================] - 3s 77ms/step - loss: 0.0027\n",
      "Epoch 43/100\n",
      "38/38 [==============================] - 3s 77ms/step - loss: 0.0025\n",
      "Epoch 44/100\n",
      "38/38 [==============================] - 3s 78ms/step - loss: 0.0023\n",
      "Epoch 45/100\n",
      "38/38 [==============================] - 3s 77ms/step - loss: 0.0025\n",
      "Epoch 46/100\n",
      "38/38 [==============================] - 3s 77ms/step - loss: 0.0025\n",
      "Epoch 47/100\n",
      "38/38 [==============================] - 3s 77ms/step - loss: 0.0023\n",
      "Epoch 48/100\n",
      "38/38 [==============================] - 3s 77ms/step - loss: 0.0028\n",
      "Epoch 49/100\n",
      "38/38 [==============================] - 3s 77ms/step - loss: 0.0026\n",
      "Epoch 50/100\n",
      "38/38 [==============================] - 3s 77ms/step - loss: 0.0025\n",
      "Epoch 51/100\n",
      "38/38 [==============================] - 3s 79ms/step - loss: 0.0021\n",
      "Epoch 52/100\n",
      "38/38 [==============================] - 3s 79ms/step - loss: 0.0022\n",
      "Epoch 53/100\n",
      "38/38 [==============================] - 3s 78ms/step - loss: 0.0024\n",
      "Epoch 54/100\n",
      "38/38 [==============================] - 3s 78ms/step - loss: 0.0027\n",
      "Epoch 55/100\n",
      "38/38 [==============================] - 3s 77ms/step - loss: 0.0024\n",
      "Epoch 56/100\n",
      "38/38 [==============================] - 3s 77ms/step - loss: 0.0023\n",
      "Epoch 57/100\n",
      "38/38 [==============================] - 3s 77ms/step - loss: 0.0021\n",
      "Epoch 58/100\n",
      "38/38 [==============================] - 3s 77ms/step - loss: 0.0022\n",
      "Epoch 59/100\n",
      "38/38 [==============================] - 3s 78ms/step - loss: 0.0020\n",
      "Epoch 60/100\n",
      "38/38 [==============================] - 3s 78ms/step - loss: 0.0021\n",
      "Epoch 61/100\n",
      "38/38 [==============================] - 3s 77ms/step - loss: 0.0021\n",
      "Epoch 62/100\n",
      "38/38 [==============================] - 3s 77ms/step - loss: 0.0022\n",
      "Epoch 63/100\n",
      "38/38 [==============================] - 3s 78ms/step - loss: 0.0018\n",
      "Epoch 64/100\n",
      "38/38 [==============================] - 3s 77ms/step - loss: 0.0021\n",
      "Epoch 65/100\n",
      "38/38 [==============================] - 3s 77ms/step - loss: 0.0018\n",
      "Epoch 66/100\n",
      "38/38 [==============================] - 3s 84ms/step - loss: 0.0020\n",
      "Epoch 67/100\n",
      "38/38 [==============================] - 3s 77ms/step - loss: 0.0023\n",
      "Epoch 68/100\n",
      "38/38 [==============================] - 3s 78ms/step - loss: 0.0020\n",
      "Epoch 69/100\n",
      "38/38 [==============================] - 3s 79ms/step - loss: 0.0019\n",
      "Epoch 70/100\n",
      "38/38 [==============================] - 3s 77ms/step - loss: 0.0018\n",
      "Epoch 71/100\n",
      "38/38 [==============================] - 3s 77ms/step - loss: 0.0022\n",
      "Epoch 72/100\n",
      "38/38 [==============================] - 3s 77ms/step - loss: 0.0019\n",
      "Epoch 73/100\n",
      "38/38 [==============================] - 3s 78ms/step - loss: 0.0017\n",
      "Epoch 74/100\n",
      "38/38 [==============================] - 3s 78ms/step - loss: 0.0018\n",
      "Epoch 75/100\n",
      "38/38 [==============================] - 3s 78ms/step - loss: 0.0019\n",
      "Epoch 76/100\n",
      "38/38 [==============================] - 3s 78ms/step - loss: 0.0017\n",
      "Epoch 77/100\n",
      "38/38 [==============================] - 3s 77ms/step - loss: 0.0016\n",
      "Epoch 78/100\n",
      "38/38 [==============================] - 3s 80ms/step - loss: 0.0018\n",
      "Epoch 79/100\n",
      "38/38 [==============================] - 3s 77ms/step - loss: 0.0017\n",
      "Epoch 80/100\n",
      "38/38 [==============================] - 3s 77ms/step - loss: 0.0018\n",
      "Epoch 81/100\n",
      "38/38 [==============================] - 3s 78ms/step - loss: 0.0016\n",
      "Epoch 82/100\n",
      "38/38 [==============================] - 3s 77ms/step - loss: 0.0018\n",
      "Epoch 83/100\n",
      "38/38 [==============================] - 3s 77ms/step - loss: 0.0018\n",
      "Epoch 84/100\n",
      "38/38 [==============================] - 3s 89ms/step - loss: 0.0017\n",
      "Epoch 85/100\n",
      "38/38 [==============================] - 3s 78ms/step - loss: 0.0016\n",
      "Epoch 86/100\n",
      "38/38 [==============================] - 4s 100ms/step - loss: 0.0017\n",
      "Epoch 87/100\n",
      "38/38 [==============================] - 4s 93ms/step - loss: 0.0016\n",
      "Epoch 88/100\n",
      "38/38 [==============================] - 3s 85ms/step - loss: 0.0016\n",
      "Epoch 89/100\n",
      "38/38 [==============================] - 4s 104ms/step - loss: 0.0017\n",
      "Epoch 90/100\n",
      "38/38 [==============================] - 3s 91ms/step - loss: 0.0015\n",
      "Epoch 91/100\n",
      "38/38 [==============================] - 4s 102ms/step - loss: 0.0016\n",
      "Epoch 92/100\n",
      "38/38 [==============================] - 3s 85ms/step - loss: 0.0016\n",
      "Epoch 93/100\n",
      "38/38 [==============================] - 4s 98ms/step - loss: 0.0014\n",
      "Epoch 94/100\n",
      "38/38 [==============================] - 4s 104ms/step - loss: 0.0014\n",
      "Epoch 95/100\n",
      "38/38 [==============================] - 4s 93ms/step - loss: 0.0014\n",
      "Epoch 96/100\n",
      "38/38 [==============================] - 3s 86ms/step - loss: 0.0016\n",
      "Epoch 97/100\n",
      "38/38 [==============================] - 3s 78ms/step - loss: 0.0016\n",
      "Epoch 98/100\n",
      "38/38 [==============================] - 3s 76ms/step - loss: 0.0015\n",
      "Epoch 99/100\n",
      "38/38 [==============================] - 3s 82ms/step - loss: 0.0018\n",
      "Epoch 100/100\n",
      "38/38 [==============================] - 3s 83ms/step - loss: 0.0015\n"
     ]
    },
    {
     "data": {
      "text/plain": [
       "<keras.callbacks.History at 0x1b228681910>"
      ]
     },
     "execution_count": 7,
     "metadata": {},
     "output_type": "execute_result"
    }
   ],
   "source": [
    "regressor.add(LSTM(units =50, return_sequences = True, input_shape = (X_train.shape[1], 1)))\n",
    "#units -> number of neurons of that first LSTM layer\n",
    "#return_seq -> true cause we have next layer to get the result from this layer\n",
    "#input_shape -> timestep + indicator -> only needed for 1st layer\n",
    "\n",
    "#dropout helps to reduce overfitting, in each iteration disables a certain percent of nodes (neurons)\n",
    "regressor.add(Dropout(0.2))\n",
    "\n",
    "#2nd LSTM layer + Dropout\n",
    "regressor.add(LSTM(units =50, return_sequences = True))\n",
    "regressor.add(Dropout(0.2))\n",
    "\n",
    "#3rd LSTM layer + Dropout\n",
    "regressor.add(LSTM(units =50, return_sequences = True))\n",
    "regressor.add(Dropout(0.2))\n",
    "\n",
    "#4th LSTM layer + Dropout\n",
    "regressor.add(LSTM(units =50)) #defualt val of ret_seq is False\n",
    "regressor.add(Dropout(0.2))\n",
    "\n",
    "#Output\n",
    "regressor.add(Dense(units= 1))\n",
    "\n",
    "#Compile RNN\n",
    "regressor.compile(optimizer= 'adam', loss= 'mean_squared_error')\n",
    "\n",
    "#fitting RNN to the training set\n",
    "regressor.fit(X_train, y_train, epochs= 100, batch_size= 32)\n",
    "\n",
    "\n"
   ]
  },
  {
   "cell_type": "markdown",
   "metadata": {
    "colab_type": "text",
    "id": "Am-Z0YbgJDZW"
   },
   "source": [
    "## Real and predicted results of 2017"
   ]
  },
  {
   "cell_type": "code",
   "execution_count": 8,
   "metadata": {
    "colab": {},
    "colab_type": "code",
    "id": "el21xLRLJGQg"
   },
   "outputs": [
    {
     "name": "stdout",
     "output_type": "stream",
     "text": [
      "1/1 [==============================] - 1s 1s/step\n"
     ]
    }
   ],
   "source": [
    "dataset_test = pd.read_csv('Google_Stock_Price_Test.csv')\n",
    "real_stock = dataset_test.iloc[:, 1:2].values  #.values makes a numpy array\n",
    "\n",
    "#prediction\n",
    "dataset_total = pd.concat((dataset_train['Open'], dataset_test['Open']), axis = 0)\n",
    "#axis = o -> vertical, since we want concatenate the rows or lines\n",
    "inputs = dataset_total[len(dataset_total) - len(dataset_test) - 60:].values  #len()-len() -> gives start of Jan 2017 \n",
    "inputs = inputs.reshape(-1, 1)\n",
    "inputs = sc.transform(inputs)\n",
    "\n",
    "X_test = []\n",
    "for i in range(60, 80):\n",
    "    X_test.append(inputs[i-60:i, 0]) \n",
    "X_test = np.array(X_test) \n",
    "X_test = np.reshape(X_test, (X_test.shape[0], X_train.shape[1], 1))\n",
    "predicted_stock = regressor.predict(X_test)\n",
    "predicted_stock = sc.inverse_transform(predicted_stock) #since it was scaled before\n"
   ]
  },
  {
   "cell_type": "markdown",
   "metadata": {
    "colab_type": "text",
    "id": "I8U6x1ixRaz3"
   },
   "source": [
    "## Visualization"
   ]
  },
  {
   "cell_type": "code",
   "execution_count": 9,
   "metadata": {
    "colab": {
     "base_uri": "https://localhost:8080/",
     "height": 295
    },
    "colab_type": "code",
    "id": "kuX8SAKxRcz1",
    "outputId": "694a807e-8c4e-4f09-c71a-2394cba89ea0"
   },
   "outputs": [
    {
     "data": {
      "image/png": "[encoded data removed]",
      "text/plain": [
       "<Figure size 432x288 with 1 Axes>"
      ]
     },
     "metadata": {
      "needs_background": "light"
     },
     "output_type": "display_data"
    }
   ],
   "source": [
    "plt.plot(real_stock, color = 'pink', label = 'Real Google Stock Price')\n",
    "plt.plot(predicted_stock, color = 'navy', label = 'Predicted Google Stock Price')\n",
    "plt.title('Google Stock Price Prediction')\n",
    "plt.xlabel('Time')\n",
    "plt.ylabel('Google Stock Price')\n",
    "plt.legend()\n",
    "plt.show()"
   ]
  }
 ],
 "metadata": {
  "colab": {
   "collapsed_sections": [],
   "name": "Untitled22.ipynb",
   "provenance": []
  },
  "kernelspec": {
   "display_name": "Python 3 (ipykernel)",
   "language": "python",
   "name": "python3"
  },
  "language_info": {
   "codemirror_mode": {
    "name": "ipython",
    "version": 3
   },
   "file_extension": ".py",
   "mimetype": "text/x-python",
   "name": "python",
   "nbconvert_exporter": "python",
   "pygments_lexer": "ipython3",
   "version": "3.9.6"
  }
 },
 "nbformat": 4,
 "nbformat_minor": 1
}
